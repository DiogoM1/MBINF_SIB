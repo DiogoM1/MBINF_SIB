{
 "cells": [
  {
   "cell_type": "code",
   "execution_count": 247,
   "outputs": [
    {
     "name": "stdout",
     "output_type": "stream",
     "text": [
      "The autoreload extension is already loaded. To reload it, use:\n",
      "  %reload_ext autoreload\n"
     ]
    }
   ],
   "source": [
    "%load_ext autoreload\n",
    "%autoreload 2"
   ],
   "metadata": {
    "collapsed": false,
    "pycharm": {
     "name": "#%%\n"
    }
   }
  },
  {
   "cell_type": "markdown",
   "id": "43fa03ab",
   "metadata": {},
   "source": [
    "# Convolutional NN"
   ]
  },
  {
   "cell_type": "code",
   "execution_count": 248,
   "id": "33cb45c4",
   "metadata": {},
   "outputs": [],
   "source": [
    "import numpy as np\n",
    "import gzip\n",
    "import os\n",
    "import pickle\n",
    "from matplotlib import pyplot\n",
    "\n",
    "\n",
    "from si.data import Dataset\n",
    "from si.util import to_categorical"
   ]
  },
  {
   "cell_type": "markdown",
   "id": "cb6c4620",
   "metadata": {},
   "source": [
    "Load the MNIST dataset"
   ]
  },
  {
   "cell_type": "code",
   "execution_count": 249,
   "id": "01211c65",
   "metadata": {},
   "outputs": [],
   "source": [
    "def load_mnist(sample_size=None):\n",
    "    DIR = os.path.dirname(os.path.realpath('.'))\n",
    "    filename = os.path.join(DIR, 'datasets/mnist.pkl.gz')\n",
    "    f = gzip.open(filename, 'rb')\n",
    "    data = pickle.load(f, encoding='bytes')\n",
    "    (x_train, y_train), (x_test, y_test) = data\n",
    "    if sample_size:\n",
    "        return Dataset(x_train[:sample_size],y_train[:sample_size]),Dataset(x_test,y_test)\n",
    "    else:\n",
    "        return Dataset(x_train,y_train),Dataset(x_test,y_test)\n",
    "\n",
    "train,test = load_mnist(500)\n",
    "train1,test1 = load_mnist(500)\n",
    "a = 0"
   ]
  },
  {
   "cell_type": "code",
   "execution_count": 249,
   "id": "ee31ef2a",
   "metadata": {},
   "outputs": [],
   "source": []
  },
  {
   "cell_type": "code",
   "execution_count": 250,
   "id": "8eb38cb2",
   "metadata": {},
   "outputs": [],
   "source": [
    "def preprocess(data):\n",
    "    # reshape and normalize input data \n",
    "    data.X = data.X.reshape(data.X.shape[0], 28, 28, 1)\n",
    "    data.X = data.X.astype('float32')\n",
    "    data.X /= 255\n",
    "    data.y = to_categorical(data.y)\n",
    "    return data"
   ]
  },
  {
   "cell_type": "code",
   "execution_count": 251,
   "id": "349a4b02",
   "metadata": {},
   "outputs": [],
   "source": [
    "train = preprocess(train)\n",
    "test = preprocess(test)"
   ]
  },
  {
   "cell_type": "code",
   "execution_count": 252,
   "id": "b8da1a25",
   "metadata": {},
   "outputs": [
    {
     "data": {
      "text/plain": "<Figure size 432x288 with 1 Axes>",
      "image/png": "[encoded data removed]"
     },
     "metadata": {
      "needs_background": "light"
     },
     "output_type": "display_data"
    }
   ],
   "source": [
    "def plot_img(img,shape=(28,28)):\n",
    "    pic = (img*255).reshape(shape)\n",
    "    pic = pic.astype('int')\n",
    "    pyplot.imshow(pic, cmap=pyplot.get_cmap('gray'))\n",
    "    pyplot.show()\n",
    "\n",
    "plot_img(test.X[0])"
   ]
  },
  {
   "cell_type": "code",
   "execution_count": 253,
   "id": "7a526d57",
   "metadata": {},
   "outputs": [],
   "source": [
    "from si.supervised import NN, Dense, Activation, Conv2D, Flatten, MaxPooling2D\n",
    "from si.util.activation import Tanh, Sigmoid\n",
    "from si.util.metrics import cross_entropy, cross_entropy_prime"
   ]
  },
  {
   "cell_type": "markdown",
   "id": "e8d62d85",
   "metadata": {},
   "source": [
    "### Check Conv2D"
   ]
  },
  {
   "cell_type": "code",
   "execution_count": 254,
   "id": "ff81f939",
   "metadata": {},
   "outputs": [
    {
     "data": {
      "text/plain": "<Figure size 432x288 with 1 Axes>",
      "image/png": "[encoded data removed]"
     },
     "metadata": {
      "needs_background": "light"
     },
     "output_type": "display_data"
    }
   ],
   "source": [
    "conv = Conv2D((28, 28,1), (3, 3), 1)\n",
    "out0 = conv.forward(test.X[:1])\n",
    "plot_img(out0, shape=(26, 26))\n"
   ]
  },
  {
   "cell_type": "markdown",
   "id": "9ed4258b",
   "metadata": {},
   "source": [
    "### Check MaxPooling"
   ]
  },
  {
   "cell_type": "code",
   "execution_count": 255,
   "id": "ceb3454e",
   "metadata": {},
   "outputs": [
    {
     "data": {
      "text/plain": "<Figure size 432x288 with 1 Axes>",
      "image/png": "[encoded data removed]"
     },
     "metadata": {
      "needs_background": "light"
     },
     "output_type": "display_data"
    },
    {
     "data": {
      "text/plain": "<Figure size 432x288 with 1 Axes>",
      "image/png": "[encoded data removed]"
     },
     "metadata": {
      "needs_background": "light"
     },
     "output_type": "display_data"
    }
   ],
   "source": [
    "pool = MaxPooling2D(size=2,stride=1)\n",
    "out = pool.forward(test.X[:1])\n",
    "plot_img(out, shape=(27, 27))\n",
    "\n",
    "pool = MaxPooling2D(size=2,stride=2)\n",
    "out2 = pool.forward(test.X[:1])\n",
    "plot_img(out2, shape=(14, 14))"
   ]
  },
  {
   "cell_type": "markdown",
   "id": "e199ff7d",
   "metadata": {},
   "source": [
    "Build the model"
   ]
  },
  {
   "cell_type": "code",
   "execution_count": 256,
   "id": "e043b055",
   "metadata": {},
   "outputs": [],
   "source": [
    "from si.util.activation import ReLU\n",
    "\n",
    "# net = NN(epochs=2000,lr=0.1,verbose=False)\n",
    "net = NN(epochs=100,lr=0.1,verbose=False)\n",
    "net.add(Conv2D((28, 28,1), (3, 3), 1))\n",
    "net.add(Activation(Tanh()))\n",
    "net.add(MaxPooling2D(2,1))\n",
    "net.add(Flatten())\n",
    "net.add(Dense(25*25*1, 100))\n",
    "net.add(Activation(Tanh()))\n",
    "net.add(Dense(100, 10))\n",
    "net.add(Activation(Sigmoid()))"
   ]
  },
  {
   "cell_type": "markdown",
   "id": "5f058ccd",
   "metadata": {},
   "source": [
    "Train the model"
   ]
  },
  {
   "cell_type": "code",
   "execution_count": 257,
   "id": "86a326b7",
   "metadata": {
    "scrolled": true
   },
   "outputs": [
    {
     "name": "stdout",
     "output_type": "stream",
     "text": [
      " epoch 1/100 error = 0.3931578891049502\n",
      " epoch 2/100 error = 0.3771765706075543\n",
      " epoch 3/100 error = 0.36106318953904876\n",
      " epoch 4/100 error = 0.34480691759831705\n",
      " epoch 5/100 error = 0.32827084692415187\n",
      " epoch 6/100 error = 0.3118035553401275\n",
      " epoch 7/100 error = 0.29516045046863854\n",
      " epoch 8/100 error = 0.27847146862341204\n",
      " epoch 9/100 error = 0.26216499685092065\n",
      " epoch 10/100 error = 0.2462838561531991\n",
      " epoch 11/100 error = 0.23089674239149338\n",
      " epoch 12/100 error = 0.21643138162286224\n",
      " epoch 13/100 error = 0.202750767512764\n",
      " epoch 14/100 error = 0.19048670514269733\n",
      " epoch 15/100 error = 0.17985002227829378\n",
      " epoch 16/100 error = 0.17073729614810212\n",
      " epoch 17/100 error = 0.16276250885528087\n",
      " epoch 18/100 error = 0.15576996665113285\n",
      " epoch 19/100 error = 0.14944800093490815\n",
      " epoch 20/100 error = 0.14375770056366757\n",
      " epoch 21/100 error = 0.1388294936336608\n",
      " epoch 22/100 error = 0.13447152488896058\n",
      " epoch 23/100 error = 0.13086737561883285\n",
      " epoch 24/100 error = 0.12791078608875675\n",
      " epoch 25/100 error = 0.12531243769032355\n",
      " epoch 26/100 error = 0.1232028903073679\n",
      " epoch 27/100 error = 0.12151392873277396\n",
      " epoch 28/100 error = 0.12025187415452028\n",
      " epoch 29/100 error = 0.11934905625814432\n",
      " epoch 30/100 error = 0.1185909972731014\n",
      " epoch 31/100 error = 0.11787072669258429\n",
      " epoch 32/100 error = 0.11727138172821298\n",
      " epoch 33/100 error = 0.1167097171901319\n",
      " epoch 34/100 error = 0.11624845826617394\n",
      " epoch 35/100 error = 0.11582780521067577\n",
      " epoch 36/100 error = 0.11548135204175396\n",
      " epoch 37/100 error = 0.11519964614516512\n",
      " epoch 38/100 error = 0.11493231371148147\n",
      " epoch 39/100 error = 0.11460100793083738\n",
      " epoch 40/100 error = 0.11443964557964714\n",
      " epoch 41/100 error = 0.11426614497251675\n",
      " epoch 42/100 error = 0.11413739897245707\n",
      " epoch 43/100 error = 0.11401819620081217\n",
      " epoch 44/100 error = 0.11393851970680513\n",
      " epoch 45/100 error = 0.11384581198301565\n",
      " epoch 46/100 error = 0.1137579316118642\n",
      " epoch 47/100 error = 0.11369976355756642\n",
      " epoch 48/100 error = 0.11365922421567194\n",
      " epoch 49/100 error = 0.113658465511004\n",
      " epoch 50/100 error = 0.11366270157092058\n",
      " epoch 51/100 error = 0.11375005327828096\n",
      " epoch 52/100 error = 0.11381394868280774\n",
      " epoch 53/100 error = 0.11387561839105224\n",
      " epoch 54/100 error = 0.11393193084690789\n",
      " epoch 55/100 error = 0.11398412367237601\n",
      " epoch 56/100 error = 0.11404588777952893\n",
      " epoch 57/100 error = 0.11404054082741841\n",
      " epoch 58/100 error = 0.1140316174528673\n",
      " epoch 59/100 error = 0.11399286189043745\n",
      " epoch 60/100 error = 0.11398520076948124\n",
      " epoch 61/100 error = 0.11397350087230744\n",
      " epoch 62/100 error = 0.11401112530476001\n",
      " epoch 63/100 error = 0.11410076147200081\n",
      " epoch 64/100 error = 0.11426527340158903\n",
      " epoch 65/100 error = 0.11443721288377177\n",
      " epoch 66/100 error = 0.11461127605921162\n",
      " epoch 67/100 error = 0.11476942468404235\n",
      " epoch 68/100 error = 0.11491076323410843\n",
      " epoch 69/100 error = 0.11503837589370725\n",
      " epoch 70/100 error = 0.11517899687299682\n",
      " epoch 71/100 error = 0.11534788888838976\n",
      " epoch 72/100 error = 0.11553611786527336\n",
      " epoch 73/100 error = 0.11574791522476051\n",
      " epoch 74/100 error = 0.11606092103524737\n",
      " epoch 75/100 error = 0.11629634360575229\n",
      " epoch 76/100 error = 0.11652019579390445\n",
      " epoch 77/100 error = 0.11675063685044543\n",
      " epoch 78/100 error = 0.11700728003892662\n",
      " epoch 79/100 error = 0.11727374286113142\n",
      " epoch 80/100 error = 0.11756520204525822\n",
      " epoch 81/100 error = 0.11783041895389879\n",
      " epoch 82/100 error = 0.11816682798991877\n",
      " epoch 83/100 error = 0.11849619804386351\n",
      " epoch 84/100 error = 0.11888029845473916\n",
      " epoch 85/100 error = 0.11933065160925267\n",
      " epoch 86/100 error = 0.11978777394089582\n",
      " epoch 87/100 error = 0.12022474466331037\n",
      " epoch 88/100 error = 0.12063348471689846\n",
      " epoch 89/100 error = 0.12088364120534015\n",
      " epoch 90/100 error = 0.12124900051339682\n",
      " epoch 91/100 error = 0.12162341363163254\n",
      " epoch 92/100 error = 0.12184271982064994\n",
      " epoch 93/100 error = 0.12215728627049416\n",
      " epoch 94/100 error = 0.12244323319141241\n",
      " epoch 95/100 error = 0.12272611457248297\n",
      " epoch 96/100 error = 0.12300142966241663\n",
      " epoch 97/100 error = 0.12327689528627328\n",
      " epoch 98/100 error = 0.12352683763922309\n",
      " epoch 99/100 error = 0.1237218287041574\n",
      " epoch 100/100 error = 0.12389321264366257\n"
     ]
    }
   ],
   "source": [
    "net.fit(train)"
   ]
  },
  {
   "cell_type": "code",
   "execution_count": 258,
   "id": "aab57ce5",
   "metadata": {},
   "outputs": [
    {
     "name": "stdout",
     "output_type": "stream",
     "text": [
      "\n",
      "\n",
      "predicted values : \n",
      "[[0. 0. 0. 0. 0. 0. 0. 0. 0. 0.]\n",
      " [0. 0. 1. 0. 0. 0. 0. 0. 0. 1.]\n",
      " [0. 1. 0. 0. 0. 0. 0. 0. 0. 0.]]\n",
      "true values : \n",
      "[[0. 0. 0. 0. 0. 0. 0. 1. 0. 0.]\n",
      " [0. 0. 1. 0. 0. 0. 0. 0. 0. 0.]\n",
      " [0. 1. 0. 0. 0. 0. 0. 0. 0. 0.]]\n",
      "0.0949768546018036\n"
     ]
    },
    {
     "data": {
      "text/plain": "0.06666666666666667"
     },
     "execution_count": 258,
     "metadata": {},
     "output_type": "execute_result"
    }
   ],
   "source": [
    "from si.util.metrics import mse\n",
    "\n",
    "a = test.X[0:3]\n",
    "out = net.predict(test.X[0:3])\n",
    "print(\"\\n\")\n",
    "print(\"predicted values : \")\n",
    "print(np.round(out), end=\"\\n\")\n",
    "print(\"true values : \")\n",
    "print(test.y[0:3])\n",
    "print(net.cost(a, test.y[0:3]))\n",
    "mse(np.round(out), test.y[0:3])"
   ]
  },
  {
   "cell_type": "code",
   "execution_count": 259,
   "id": "e0198faa",
   "metadata": {},
   "outputs": [],
   "source": [
    "conv1 = net.layers[0]\n",
    "act1 = net.layers[1]\n",
    "pool1 = net.layers[2]"
   ]
  },
  {
   "cell_type": "code",
   "execution_count": 260,
   "id": "ee419f6b",
   "metadata": {},
   "outputs": [
    {
     "data": {
      "text/plain": "<Figure size 432x288 with 1 Axes>",
      "image/png": "[encoded data removed]"
     },
     "metadata": {
      "needs_background": "light"
     },
     "output_type": "display_data"
    }
   ],
   "source": [
    "img1 = conv1.forward(test.X[:1])\n",
    "plot_img(img1,shape=(26,26))\n"
   ]
  },
  {
   "cell_type": "code",
   "execution_count": 261,
   "id": "7b43c6cd",
   "metadata": {},
   "outputs": [
    {
     "data": {
      "text/plain": "<Figure size 432x288 with 1 Axes>",
      "image/png": "[encoded data removed]"
     },
     "metadata": {
      "needs_background": "light"
     },
     "output_type": "display_data"
    }
   ],
   "source": [
    "img2= pool1.forward(act1.forward(img1))\n",
    "plot_img(img2,shape=(25,25))"
   ]
  },
  {
   "cell_type": "code",
   "execution_count": 261,
   "id": "a8529015",
   "metadata": {},
   "outputs": [],
   "source": []
  }
 ],
 "metadata": {
  "kernelspec": {
   "display_name": "Python 3",
   "language": "python",
   "name": "python3"
  },
  "language_info": {
   "codemirror_mode": {
    "name": "ipython",
    "version": 3
   },
   "file_extension": ".py",
   "mimetype": "text/x-python",
   "name": "python",
   "nbconvert_exporter": "python",
   "pygments_lexer": "ipython3",
   "version": "3.8.8"
  }
 },
 "nbformat": 4,
 "nbformat_minor": 5
}