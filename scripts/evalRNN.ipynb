{
 "cells": [
  {
   "cell_type": "code",
   "execution_count": 46,
   "outputs": [
    {
     "name": "stdout",
     "output_type": "stream",
     "text": [
      "The autoreload extension is already loaded. To reload it, use:\n",
      "  %reload_ext autoreload\n"
     ]
    }
   ],
   "source": [
    "%load_ext autoreload\n",
    "%autoreload 2"
   ],
   "metadata": {
    "collapsed": false,
    "pycharm": {
     "name": "#%%\n"
    }
   }
  },
  {
   "cell_type": "code",
   "execution_count": 47,
   "outputs": [
    {
     "name": "stdout",
     "output_type": "stream",
     "text": [
      "18 unique words found\n"
     ]
    }
   ],
   "source": [
    "import numpy as np\n",
    "import pandas as pd\n",
    "from si.data import Dataset\n",
    "import os\n",
    "\n",
    "DIR = os.path.dirname(os.path.realpath('.'))\n",
    "filename = os.path.join(DIR, 'datasets/rnn.data')\n",
    "data = pd.read_csv(filename, names=[\"text\", \"class\"])\n",
    "dataset = Dataset.from_dataframe(data, ylabel=\"class\")\n",
    "\n",
    "def create_inputs(text, vocab_size, word_to_idx, idx_to_word, sentence_size):\n",
    "    words = []\n",
    "    for w in text[0].split(' '):\n",
    "        v = np.zeros((vocab_size, 1))\n",
    "        v[word_to_idx[w]] = 1\n",
    "        words.append(v)\n",
    "    return np.hstack([np.hstack(words), np.zeros((vocab_size, sentence_size-len(words)))]).T\n",
    "\n",
    "\n",
    "def encode_dataset(dataset):\n",
    "    inputs = []\n",
    "    # Create the vocabulary.\n",
    "    vocab = list(set([w for text in dataset.X for w in text[0].split(' ')]))\n",
    "    vocab_size = len(vocab)\n",
    "    sentence_size = max([len(text[0].split(' ')) for text in dataset.X])\n",
    "    print('%d unique words found' % vocab_size)\n",
    "\n",
    "    # Assign indices to each word.\n",
    "    word_to_idx = { w: i for i, w in enumerate(vocab) }\n",
    "    idx_to_word = { i: w for i, w in enumerate(vocab) }\n",
    "    for text in dataset.X:\n",
    "        inputs.append(np.array(create_inputs(text, vocab_size, word_to_idx, idx_to_word, sentence_size)))\n",
    "    dataset.X = np.stack(inputs, axis=0)\n",
    "    return  dataset, vocab, vocab_size, word_to_idx, idx_to_word\n",
    "\n",
    "dataset, vocab, vocab_size, word_to_idx, idx_to_word = encode_dataset(dataset)"
   ],
   "metadata": {
    "collapsed": false,
    "pycharm": {
     "name": "#%%\n"
    }
   }
  },
  {
   "cell_type": "code",
   "execution_count": 51,
   "outputs": [
    {
     "ename": "ValueError",
     "evalue": "operands could not be broadcast together with shapes (2,10) (58,) ",
     "output_type": "error",
     "traceback": [
      "\u001B[0;31m---------------------------------------------------------------------------\u001B[0m",
      "\u001B[0;31mValueError\u001B[0m                                Traceback (most recent call last)",
      "\u001B[0;32m/tmp/ipykernel_8214/803970056.py\u001B[0m in \u001B[0;36m<module>\u001B[0;34m\u001B[0m\n\u001B[1;32m      8\u001B[0m \u001B[0mnet\u001B[0m\u001B[0;34m.\u001B[0m\u001B[0muse_loss\u001B[0m\u001B[0;34m(\u001B[0m\u001B[0mcross_entropy\u001B[0m\u001B[0;34m,\u001B[0m \u001B[0mcross_entropy_prime\u001B[0m\u001B[0;34m)\u001B[0m\u001B[0;34m\u001B[0m\u001B[0;34m\u001B[0m\u001B[0m\n\u001B[1;32m      9\u001B[0m \u001B[0;34m\u001B[0m\u001B[0m\n\u001B[0;32m---> 10\u001B[0;31m \u001B[0mnet\u001B[0m\u001B[0;34m.\u001B[0m\u001B[0mfit\u001B[0m\u001B[0;34m(\u001B[0m\u001B[0mdataset\u001B[0m\u001B[0;34m)\u001B[0m\u001B[0;34m\u001B[0m\u001B[0;34m\u001B[0m\u001B[0m\n\u001B[0m\u001B[1;32m     11\u001B[0m \u001B[0;34m\u001B[0m\u001B[0m\n",
      "\u001B[0;32m~/PycharmProjects/si/src/si/supervised/NN.py\u001B[0m in \u001B[0;36mfit\u001B[0;34m(self, dataset)\u001B[0m\n\u001B[1;32m    336\u001B[0m \u001B[0;34m\u001B[0m\u001B[0m\n\u001B[1;32m    337\u001B[0m             \u001B[0;31m# backward propagation\u001B[0m\u001B[0;34m\u001B[0m\u001B[0;34m\u001B[0m\u001B[0m\n\u001B[0;32m--> 338\u001B[0;31m             \u001B[0merror\u001B[0m \u001B[0;34m=\u001B[0m \u001B[0mself\u001B[0m\u001B[0;34m.\u001B[0m\u001B[0mloss_prime\u001B[0m\u001B[0;34m(\u001B[0m\u001B[0my\u001B[0m\u001B[0;34m,\u001B[0m \u001B[0mnp\u001B[0m\u001B[0;34m.\u001B[0m\u001B[0mround\u001B[0m\u001B[0;34m(\u001B[0m\u001B[0moutput\u001B[0m\u001B[0;34m)\u001B[0m\u001B[0;34m)\u001B[0m\u001B[0;34m\u001B[0m\u001B[0;34m\u001B[0m\u001B[0m\n\u001B[0m\u001B[1;32m    339\u001B[0m             \u001B[0;32mfor\u001B[0m \u001B[0mlayer\u001B[0m \u001B[0;32min\u001B[0m \u001B[0mreversed\u001B[0m\u001B[0;34m(\u001B[0m\u001B[0mself\u001B[0m\u001B[0;34m.\u001B[0m\u001B[0mlayers\u001B[0m\u001B[0;34m)\u001B[0m\u001B[0;34m:\u001B[0m\u001B[0;34m\u001B[0m\u001B[0;34m\u001B[0m\u001B[0m\n\u001B[1;32m    340\u001B[0m                 \u001B[0merror\u001B[0m \u001B[0;34m=\u001B[0m \u001B[0mlayer\u001B[0m\u001B[0;34m.\u001B[0m\u001B[0mbackward\u001B[0m\u001B[0;34m(\u001B[0m\u001B[0merror\u001B[0m\u001B[0;34m,\u001B[0m \u001B[0mself\u001B[0m\u001B[0;34m.\u001B[0m\u001B[0mlr\u001B[0m\u001B[0;34m)\u001B[0m\u001B[0;34m\u001B[0m\u001B[0;34m\u001B[0m\u001B[0m\n",
      "\u001B[0;32m~/PycharmProjects/si/src/si/util/metrics.py\u001B[0m in \u001B[0;36mcross_entropy_prime\u001B[0;34m(y_true, y_pred)\u001B[0m\n\u001B[1;32m     32\u001B[0m \u001B[0;34m\u001B[0m\u001B[0m\n\u001B[1;32m     33\u001B[0m \u001B[0;32mdef\u001B[0m \u001B[0mcross_entropy_prime\u001B[0m\u001B[0;34m(\u001B[0m\u001B[0my_true\u001B[0m\u001B[0;34m,\u001B[0m \u001B[0my_pred\u001B[0m\u001B[0;34m)\u001B[0m\u001B[0;34m:\u001B[0m\u001B[0;34m\u001B[0m\u001B[0;34m\u001B[0m\u001B[0m\n\u001B[0;32m---> 34\u001B[0;31m     \u001B[0;32mreturn\u001B[0m \u001B[0my_pred\u001B[0m \u001B[0;34m-\u001B[0m \u001B[0my_true\u001B[0m\u001B[0;34m\u001B[0m\u001B[0;34m\u001B[0m\u001B[0m\n\u001B[0m",
      "\u001B[0;31mValueError\u001B[0m: operands could not be broadcast together with shapes (2,10) (58,) "
     ]
    }
   ],
   "source": [
    "from si.util.metrics import cross_entropy, cross_entropy_prime\n",
    "from si.supervised import NN, Dense, Activation, Conv2D, Flatten, MaxPooling2D, RNN\n",
    "from si.util.activation import Tanh, Sigmoid\n",
    "\n",
    "net = NN(epochs=100,lr=0.1,verbose=False)\n",
    "net.add(RNN(vocab_size,2))\n",
    "net.add(Activation(Sigmoid()))\n",
    "net.use_loss(cross_entropy, cross_entropy_prime)\n",
    "\n",
    "net.fit(dataset)\n"
   ],
   "metadata": {
    "collapsed": false,
    "pycharm": {
     "name": "#%%\n"
    }
   }
  }
 ],
 "metadata": {
  "kernelspec": {
   "display_name": "Python 3",
   "language": "python",
   "name": "python3"
  },
  "language_info": {
   "codemirror_mode": {
    "name": "ipython",
    "version": 2
   },
   "file_extension": ".py",
   "mimetype": "text/x-python",
   "name": "python",
   "nbconvert_exporter": "python",
   "pygments_lexer": "ipython2",
   "version": "2.7.6"
  }
 },
 "nbformat": 4,
 "nbformat_minor": 0
}