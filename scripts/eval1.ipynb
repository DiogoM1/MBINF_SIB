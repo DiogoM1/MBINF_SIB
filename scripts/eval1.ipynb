{
 "cells": [
  {
   "cell_type": "code",
   "execution_count": 76,
   "outputs": [
    {
     "name": "stdout",
     "output_type": "stream",
     "text": [
      "The autoreload extension is already loaded. To reload it, use:\n",
      "  %reload_ext autoreload\n"
     ]
    }
   ],
   "source": [
    "%load_ext autoreload\n",
    "%autoreload 2"
   ],
   "metadata": {
    "collapsed": false,
    "pycharm": {
     "name": "#%%\n"
    }
   }
  },
  {
   "cell_type": "markdown",
   "id": "b81c0500",
   "metadata": {},
   "source": [
    "# Sistemas Inteligentes para Bioinformática"
   ]
  },
  {
   "cell_type": "markdown",
   "id": "0332d971",
   "metadata": {},
   "source": [
    "Exemplos de validação de código. Deverá corrigir os imports e diretórios de acordo com a sua implementação."
   ]
  },
  {
   "cell_type": "code",
   "execution_count": 77,
   "id": "d7a5bba2",
   "metadata": {},
   "outputs": [],
   "source": [
    "import os\n",
    "\n",
    "import numpy as np\n",
    "\n",
    "from si.data import Dataset\n",
    "from si.util import summary"
   ]
  },
  {
   "cell_type": "code",
   "execution_count": 78,
   "id": "4df58c0c",
   "metadata": {},
   "outputs": [],
   "source": [
    "DIR = os.path.dirname(os.path.realpath('.'))\n",
    "filename = os.path.join(DIR, 'datasets/breast-bin.data')"
   ]
  },
  {
   "cell_type": "markdown",
   "id": "410820e3",
   "metadata": {},
   "source": [
    "## Labeled dataset"
   ]
  },
  {
   "cell_type": "code",
   "execution_count": 79,
   "id": "bf1b9bb6",
   "metadata": {},
   "outputs": [],
   "source": [
    "dataset = Dataset.from_data(filename, labeled=True)"
   ]
  },
  {
   "cell_type": "code",
   "execution_count": 80,
   "id": "09fb7585",
   "metadata": {},
   "outputs": [
    {
     "data": {
      "text/plain": "array([[8., 4., 4., 1., 2., 9., 3., 3., 1.],\n       [5., 1., 1., 3., 2., 1., 1., 1., 1.],\n       [2., 1., 1., 1., 3., 1., 2., 1., 1.],\n       [2., 1., 1., 1., 2., 1., 3., 1., 1.],\n       [9., 5., 8., 1., 2., 3., 2., 1., 5.]])"
     },
     "execution_count": 80,
     "metadata": {},
     "output_type": "execute_result"
    }
   ],
   "source": [
    "dataset.X[:5, :]"
   ]
  },
  {
   "cell_type": "code",
   "execution_count": 81,
   "id": "593bebab",
   "metadata": {},
   "outputs": [
    {
     "data": {
      "text/plain": "array([1., 0., 0., 0., 1.])"
     },
     "execution_count": 81,
     "metadata": {},
     "output_type": "execute_result"
    }
   ],
   "source": [
    "dataset.y[:5]"
   ]
  },
  {
   "cell_type": "code",
   "execution_count": 82,
   "id": "b3420783",
   "metadata": {},
   "outputs": [
    {
     "name": "stdout",
     "output_type": "stream",
     "text": [
      "Has label: True\n",
      "Number of features: 9\n",
      "Number of classes: 2\n"
     ]
    },
    {
     "data": {
      "text/plain": "       mean       std        var   max  min\nA  4.417740  2.813726   7.917053  10.0  1.0\nB  3.134478  3.049276   9.298082  10.0  1.0\nC  3.207439  2.969786   8.819630  10.0  1.0\nD  2.806867  2.853336   8.141527  10.0  1.0\nE  3.216023  2.212715   4.896110  10.0  1.0\nF  3.486409  3.619337  13.099601  10.0  1.0\nG  3.437768  2.436619   5.937114  10.0  1.0\nH  2.866953  3.051449   9.311340  10.0  1.0\nI  1.589413  1.713851   2.937284  10.0  1.0\ny  0.344778  0.475296   0.225906   1.0  0.0",
      "text/html": "<div>\n<style scoped>\n    .dataframe tbody tr th:only-of-type {\n        vertical-align: middle;\n    }\n\n    .dataframe tbody tr th {\n        vertical-align: top;\n    }\n\n    .dataframe thead th {\n        text-align: right;\n    }\n</style>\n<table border=\"1\" class=\"dataframe\">\n  <thead>\n    <tr style=\"text-align: right;\">\n      <th></th>\n      <th>mean</th>\n      <th>std</th>\n      <th>var</th>\n      <th>max</th>\n      <th>min</th>\n    </tr>\n  </thead>\n  <tbody>\n    <tr>\n      <th>A</th>\n      <td>4.417740</td>\n      <td>2.813726</td>\n      <td>7.917053</td>\n      <td>10.0</td>\n      <td>1.0</td>\n    </tr>\n    <tr>\n      <th>B</th>\n      <td>3.134478</td>\n      <td>3.049276</td>\n      <td>9.298082</td>\n      <td>10.0</td>\n      <td>1.0</td>\n    </tr>\n    <tr>\n      <th>C</th>\n      <td>3.207439</td>\n      <td>2.969786</td>\n      <td>8.819630</td>\n      <td>10.0</td>\n      <td>1.0</td>\n    </tr>\n    <tr>\n      <th>D</th>\n      <td>2.806867</td>\n      <td>2.853336</td>\n      <td>8.141527</td>\n      <td>10.0</td>\n      <td>1.0</td>\n    </tr>\n    <tr>\n      <th>E</th>\n      <td>3.216023</td>\n      <td>2.212715</td>\n      <td>4.896110</td>\n      <td>10.0</td>\n      <td>1.0</td>\n    </tr>\n    <tr>\n      <th>F</th>\n      <td>3.486409</td>\n      <td>3.619337</td>\n      <td>13.099601</td>\n      <td>10.0</td>\n      <td>1.0</td>\n    </tr>\n    <tr>\n      <th>G</th>\n      <td>3.437768</td>\n      <td>2.436619</td>\n      <td>5.937114</td>\n      <td>10.0</td>\n      <td>1.0</td>\n    </tr>\n    <tr>\n      <th>H</th>\n      <td>2.866953</td>\n      <td>3.051449</td>\n      <td>9.311340</td>\n      <td>10.0</td>\n      <td>1.0</td>\n    </tr>\n    <tr>\n      <th>I</th>\n      <td>1.589413</td>\n      <td>1.713851</td>\n      <td>2.937284</td>\n      <td>10.0</td>\n      <td>1.0</td>\n    </tr>\n    <tr>\n      <th>y</th>\n      <td>0.344778</td>\n      <td>0.475296</td>\n      <td>0.225906</td>\n      <td>1.0</td>\n      <td>0.0</td>\n    </tr>\n  </tbody>\n</table>\n</div>"
     },
     "execution_count": 82,
     "metadata": {},
     "output_type": "execute_result"
    }
   ],
   "source": [
    "print(\"Has label:\", dataset.hasLabel())\n",
    "print(\"Number of features:\", dataset.getNumFeatures())\n",
    "print(\"Number of classes:\", dataset.getNumClasses())\n",
    "summary(dataset)"
   ]
  },
  {
   "cell_type": "code",
   "execution_count": 83,
   "id": "a3035f51",
   "metadata": {},
   "outputs": [
    {
     "data": {
      "text/plain": "       A    B    C    D    E     F    G    H    I    y\n0    8.0  4.0  4.0  1.0  2.0   9.0  3.0  3.0  1.0  1.0\n1    5.0  1.0  1.0  3.0  2.0   1.0  1.0  1.0  1.0  0.0\n2    2.0  1.0  1.0  1.0  3.0   1.0  2.0  1.0  1.0  0.0\n3    2.0  1.0  1.0  1.0  2.0   1.0  3.0  1.0  1.0  0.0\n4    9.0  5.0  8.0  1.0  2.0   3.0  2.0  1.0  5.0  1.0\n..   ...  ...  ...  ...  ...   ...  ...  ...  ...  ...\n694  1.0  1.0  1.0  1.0  4.0   3.0  1.0  1.0  1.0  0.0\n695  5.0  3.0  1.0  2.0  2.0   1.0  2.0  1.0  1.0  0.0\n696  5.0  2.0  2.0  2.0  2.0   1.0  1.0  1.0  2.0  0.0\n697  2.0  3.0  2.0  2.0  2.0   2.0  3.0  1.0  1.0  0.0\n698  7.0  6.0  6.0  3.0  2.0  10.0  7.0  1.0  1.0  1.0\n\n[699 rows x 10 columns]",
      "text/html": "<div>\n<style scoped>\n    .dataframe tbody tr th:only-of-type {\n        vertical-align: middle;\n    }\n\n    .dataframe tbody tr th {\n        vertical-align: top;\n    }\n\n    .dataframe thead th {\n        text-align: right;\n    }\n</style>\n<table border=\"1\" class=\"dataframe\">\n  <thead>\n    <tr style=\"text-align: right;\">\n      <th></th>\n      <th>A</th>\n      <th>B</th>\n      <th>C</th>\n      <th>D</th>\n      <th>E</th>\n      <th>F</th>\n      <th>G</th>\n      <th>H</th>\n      <th>I</th>\n      <th>y</th>\n    </tr>\n  </thead>\n  <tbody>\n    <tr>\n      <th>0</th>\n      <td>8.0</td>\n      <td>4.0</td>\n      <td>4.0</td>\n      <td>1.0</td>\n      <td>2.0</td>\n      <td>9.0</td>\n      <td>3.0</td>\n      <td>3.0</td>\n      <td>1.0</td>\n      <td>1.0</td>\n    </tr>\n    <tr>\n      <th>1</th>\n      <td>5.0</td>\n      <td>1.0</td>\n      <td>1.0</td>\n      <td>3.0</td>\n      <td>2.0</td>\n      <td>1.0</td>\n      <td>1.0</td>\n      <td>1.0</td>\n      <td>1.0</td>\n      <td>0.0</td>\n    </tr>\n    <tr>\n      <th>2</th>\n      <td>2.0</td>\n      <td>1.0</td>\n      <td>1.0</td>\n      <td>1.0</td>\n      <td>3.0</td>\n      <td>1.0</td>\n      <td>2.0</td>\n      <td>1.0</td>\n      <td>1.0</td>\n      <td>0.0</td>\n    </tr>\n    <tr>\n      <th>3</th>\n      <td>2.0</td>\n      <td>1.0</td>\n      <td>1.0</td>\n      <td>1.0</td>\n      <td>2.0</td>\n      <td>1.0</td>\n      <td>3.0</td>\n      <td>1.0</td>\n      <td>1.0</td>\n      <td>0.0</td>\n    </tr>\n    <tr>\n      <th>4</th>\n      <td>9.0</td>\n      <td>5.0</td>\n      <td>8.0</td>\n      <td>1.0</td>\n      <td>2.0</td>\n      <td>3.0</td>\n      <td>2.0</td>\n      <td>1.0</td>\n      <td>5.0</td>\n      <td>1.0</td>\n    </tr>\n    <tr>\n      <th>...</th>\n      <td>...</td>\n      <td>...</td>\n      <td>...</td>\n      <td>...</td>\n      <td>...</td>\n      <td>...</td>\n      <td>...</td>\n      <td>...</td>\n      <td>...</td>\n      <td>...</td>\n    </tr>\n    <tr>\n      <th>694</th>\n      <td>1.0</td>\n      <td>1.0</td>\n      <td>1.0</td>\n      <td>1.0</td>\n      <td>4.0</td>\n      <td>3.0</td>\n      <td>1.0</td>\n      <td>1.0</td>\n      <td>1.0</td>\n      <td>0.0</td>\n    </tr>\n    <tr>\n      <th>695</th>\n      <td>5.0</td>\n      <td>3.0</td>\n      <td>1.0</td>\n      <td>2.0</td>\n      <td>2.0</td>\n      <td>1.0</td>\n      <td>2.0</td>\n      <td>1.0</td>\n      <td>1.0</td>\n      <td>0.0</td>\n    </tr>\n    <tr>\n      <th>696</th>\n      <td>5.0</td>\n      <td>2.0</td>\n      <td>2.0</td>\n      <td>2.0</td>\n      <td>2.0</td>\n      <td>1.0</td>\n      <td>1.0</td>\n      <td>1.0</td>\n      <td>2.0</td>\n      <td>0.0</td>\n    </tr>\n    <tr>\n      <th>697</th>\n      <td>2.0</td>\n      <td>3.0</td>\n      <td>2.0</td>\n      <td>2.0</td>\n      <td>2.0</td>\n      <td>2.0</td>\n      <td>3.0</td>\n      <td>1.0</td>\n      <td>1.0</td>\n      <td>0.0</td>\n    </tr>\n    <tr>\n      <th>698</th>\n      <td>7.0</td>\n      <td>6.0</td>\n      <td>6.0</td>\n      <td>3.0</td>\n      <td>2.0</td>\n      <td>10.0</td>\n      <td>7.0</td>\n      <td>1.0</td>\n      <td>1.0</td>\n      <td>1.0</td>\n    </tr>\n  </tbody>\n</table>\n<p>699 rows × 10 columns</p>\n</div>"
     },
     "execution_count": 83,
     "metadata": {},
     "output_type": "execute_result"
    }
   ],
   "source": [
    "dataset.toDataframe()"
   ]
  },
  {
   "cell_type": "markdown",
   "id": "687d166e",
   "metadata": {},
   "source": [
    "## Standard Scaler"
   ]
  },
  {
   "cell_type": "code",
   "execution_count": 84,
   "id": "57b53dc3",
   "metadata": {},
   "outputs": [
    {
     "data": {
      "text/plain": "           mean       std       var       max       min\nA -5.034917e-17  1.000000  1.000000  1.983939 -1.214667\nB  2.361805e-16  1.000000  1.000000  2.251526 -0.699995\nC  1.224581e-16  1.000000  1.000000  2.287222 -0.743299\nD  2.816059e-16  1.000000  1.000000  2.520955 -0.633247\nE  2.681054e-16  1.000000  1.000000  3.065906 -1.001495\nF -6.480272e-16  1.000000  1.000000  1.799664 -0.686979\nG  4.034287e-17  1.000000  1.000000  2.693171 -1.000471\nH -2.642934e-16  1.000000  1.000000  2.337594 -0.611825\nI -7.290306e-17  1.000000  1.000000  4.907421 -0.343912\ny  3.447783e-01  0.475296  0.225906  1.000000  0.000000",
      "text/html": "<div>\n<style scoped>\n    .dataframe tbody tr th:only-of-type {\n        vertical-align: middle;\n    }\n\n    .dataframe tbody tr th {\n        vertical-align: top;\n    }\n\n    .dataframe thead th {\n        text-align: right;\n    }\n</style>\n<table border=\"1\" class=\"dataframe\">\n  <thead>\n    <tr style=\"text-align: right;\">\n      <th></th>\n      <th>mean</th>\n      <th>std</th>\n      <th>var</th>\n      <th>max</th>\n      <th>min</th>\n    </tr>\n  </thead>\n  <tbody>\n    <tr>\n      <th>A</th>\n      <td>-5.034917e-17</td>\n      <td>1.000000</td>\n      <td>1.000000</td>\n      <td>1.983939</td>\n      <td>-1.214667</td>\n    </tr>\n    <tr>\n      <th>B</th>\n      <td>2.361805e-16</td>\n      <td>1.000000</td>\n      <td>1.000000</td>\n      <td>2.251526</td>\n      <td>-0.699995</td>\n    </tr>\n    <tr>\n      <th>C</th>\n      <td>1.224581e-16</td>\n      <td>1.000000</td>\n      <td>1.000000</td>\n      <td>2.287222</td>\n      <td>-0.743299</td>\n    </tr>\n    <tr>\n      <th>D</th>\n      <td>2.816059e-16</td>\n      <td>1.000000</td>\n      <td>1.000000</td>\n      <td>2.520955</td>\n      <td>-0.633247</td>\n    </tr>\n    <tr>\n      <th>E</th>\n      <td>2.681054e-16</td>\n      <td>1.000000</td>\n      <td>1.000000</td>\n      <td>3.065906</td>\n      <td>-1.001495</td>\n    </tr>\n    <tr>\n      <th>F</th>\n      <td>-6.480272e-16</td>\n      <td>1.000000</td>\n      <td>1.000000</td>\n      <td>1.799664</td>\n      <td>-0.686979</td>\n    </tr>\n    <tr>\n      <th>G</th>\n      <td>4.034287e-17</td>\n      <td>1.000000</td>\n      <td>1.000000</td>\n      <td>2.693171</td>\n      <td>-1.000471</td>\n    </tr>\n    <tr>\n      <th>H</th>\n      <td>-2.642934e-16</td>\n      <td>1.000000</td>\n      <td>1.000000</td>\n      <td>2.337594</td>\n      <td>-0.611825</td>\n    </tr>\n    <tr>\n      <th>I</th>\n      <td>-7.290306e-17</td>\n      <td>1.000000</td>\n      <td>1.000000</td>\n      <td>4.907421</td>\n      <td>-0.343912</td>\n    </tr>\n    <tr>\n      <th>y</th>\n      <td>3.447783e-01</td>\n      <td>0.475296</td>\n      <td>0.225906</td>\n      <td>1.000000</td>\n      <td>0.000000</td>\n    </tr>\n  </tbody>\n</table>\n</div>"
     },
     "execution_count": 84,
     "metadata": {},
     "output_type": "execute_result"
    }
   ],
   "source": [
    "from si.data.scale import StandardScaler\n",
    "sc = StandardScaler()\n",
    "ds2 = sc.fit_transform(dataset)\n",
    "summary(ds2)"
   ]
  },
  {
   "cell_type": "markdown",
   "id": "b181d714",
   "metadata": {},
   "source": [
    "# Feature Selection"
   ]
  },
  {
   "cell_type": "code",
   "execution_count": 85,
   "id": "fe5a0ddb",
   "metadata": {},
   "outputs": [],
   "source": [
    "from si.data.feature_selection import KBest, VarianceThreshold"
   ]
  },
  {
   "cell_type": "markdown",
   "id": "e2283f25",
   "metadata": {},
   "source": [
    "## Variance Threshold"
   ]
  },
  {
   "cell_type": "code",
   "execution_count": 86,
   "id": "077b82dd",
   "metadata": {},
   "outputs": [
    {
     "data": {
      "text/plain": "       mean       std        var   max  min\nB  3.134478  3.049276   9.298082  10.0  1.0\nC  3.207439  2.969786   8.819630  10.0  1.0\nD  2.806867  2.853336   8.141527  10.0  1.0\nF  3.486409  3.619337  13.099601  10.0  1.0\nH  2.866953  3.051449   9.311340  10.0  1.0\ny  0.344778  0.475296   0.225906   1.0  0.0",
      "text/html": "<div>\n<style scoped>\n    .dataframe tbody tr th:only-of-type {\n        vertical-align: middle;\n    }\n\n    .dataframe tbody tr th {\n        vertical-align: top;\n    }\n\n    .dataframe thead th {\n        text-align: right;\n    }\n</style>\n<table border=\"1\" class=\"dataframe\">\n  <thead>\n    <tr style=\"text-align: right;\">\n      <th></th>\n      <th>mean</th>\n      <th>std</th>\n      <th>var</th>\n      <th>max</th>\n      <th>min</th>\n    </tr>\n  </thead>\n  <tbody>\n    <tr>\n      <th>B</th>\n      <td>3.134478</td>\n      <td>3.049276</td>\n      <td>9.298082</td>\n      <td>10.0</td>\n      <td>1.0</td>\n    </tr>\n    <tr>\n      <th>C</th>\n      <td>3.207439</td>\n      <td>2.969786</td>\n      <td>8.819630</td>\n      <td>10.0</td>\n      <td>1.0</td>\n    </tr>\n    <tr>\n      <th>D</th>\n      <td>2.806867</td>\n      <td>2.853336</td>\n      <td>8.141527</td>\n      <td>10.0</td>\n      <td>1.0</td>\n    </tr>\n    <tr>\n      <th>F</th>\n      <td>3.486409</td>\n      <td>3.619337</td>\n      <td>13.099601</td>\n      <td>10.0</td>\n      <td>1.0</td>\n    </tr>\n    <tr>\n      <th>H</th>\n      <td>2.866953</td>\n      <td>3.051449</td>\n      <td>9.311340</td>\n      <td>10.0</td>\n      <td>1.0</td>\n    </tr>\n    <tr>\n      <th>y</th>\n      <td>0.344778</td>\n      <td>0.475296</td>\n      <td>0.225906</td>\n      <td>1.0</td>\n      <td>0.0</td>\n    </tr>\n  </tbody>\n</table>\n</div>"
     },
     "execution_count": 86,
     "metadata": {},
     "output_type": "execute_result"
    }
   ],
   "source": [
    "vt = VarianceThreshold(8)\n",
    "ds2 = vt.fit_transform(dataset)\n",
    "summary(ds2)"
   ]
  },
  {
   "cell_type": "markdown",
   "id": "af2a1979",
   "metadata": {},
   "source": [
    "## SelectKBest"
   ]
  },
  {
   "cell_type": "code",
   "execution_count": 87,
   "id": "3d5a323c",
   "metadata": {},
   "outputs": [
    {
     "data": {
      "text/plain": "       mean       std        var   max  min\nA  4.417740  2.813726   7.917053  10.0  1.0\nG  3.437768  2.436619   5.937114  10.0  1.0\nB  3.134478  3.049276   9.298082  10.0  1.0\nC  3.207439  2.969786   8.819630  10.0  1.0\nF  3.486409  3.619337  13.099601  10.0  1.0\ny  0.344778  0.475296   0.225906   1.0  0.0",
      "text/html": "<div>\n<style scoped>\n    .dataframe tbody tr th:only-of-type {\n        vertical-align: middle;\n    }\n\n    .dataframe tbody tr th {\n        vertical-align: top;\n    }\n\n    .dataframe thead th {\n        text-align: right;\n    }\n</style>\n<table border=\"1\" class=\"dataframe\">\n  <thead>\n    <tr style=\"text-align: right;\">\n      <th></th>\n      <th>mean</th>\n      <th>std</th>\n      <th>var</th>\n      <th>max</th>\n      <th>min</th>\n    </tr>\n  </thead>\n  <tbody>\n    <tr>\n      <th>A</th>\n      <td>4.417740</td>\n      <td>2.813726</td>\n      <td>7.917053</td>\n      <td>10.0</td>\n      <td>1.0</td>\n    </tr>\n    <tr>\n      <th>G</th>\n      <td>3.437768</td>\n      <td>2.436619</td>\n      <td>5.937114</td>\n      <td>10.0</td>\n      <td>1.0</td>\n    </tr>\n    <tr>\n      <th>B</th>\n      <td>3.134478</td>\n      <td>3.049276</td>\n      <td>9.298082</td>\n      <td>10.0</td>\n      <td>1.0</td>\n    </tr>\n    <tr>\n      <th>C</th>\n      <td>3.207439</td>\n      <td>2.969786</td>\n      <td>8.819630</td>\n      <td>10.0</td>\n      <td>1.0</td>\n    </tr>\n    <tr>\n      <th>F</th>\n      <td>3.486409</td>\n      <td>3.619337</td>\n      <td>13.099601</td>\n      <td>10.0</td>\n      <td>1.0</td>\n    </tr>\n    <tr>\n      <th>y</th>\n      <td>0.344778</td>\n      <td>0.475296</td>\n      <td>0.225906</td>\n      <td>1.0</td>\n      <td>0.0</td>\n    </tr>\n  </tbody>\n</table>\n</div>"
     },
     "execution_count": 87,
     "metadata": {},
     "output_type": "execute_result"
    }
   ],
   "source": [
    "# SelectKBest for classification\n",
    "skb = KBest(5)\n",
    "ds3 = skb.fit_transform(dataset)\n",
    "summary(ds3)\n"
   ]
  },
  {
   "cell_type": "markdown",
   "id": "d32dff4c",
   "metadata": {},
   "source": [
    "# Clustering"
   ]
  },
  {
   "cell_type": "code",
   "execution_count": 88,
   "id": "a9562ff0",
   "metadata": {},
   "outputs": [],
   "source": [
    "from si.unsupervised import KMeans\n",
    "import pandas as pd\n",
    "import matplotlib.pyplot as plt"
   ]
  },
  {
   "cell_type": "code",
   "execution_count": 89,
   "id": "20a110be",
   "metadata": {},
   "outputs": [],
   "source": [
    "# o dataset iris nao estava inicialmente no github\n",
    "filename = os.path.join(DIR, 'datasets/iris.data')\n",
    "df = pd.read_csv(filename)\n",
    "iris = Dataset.from_dataframe(df,ylabel=\"class\")"
   ]
  },
  {
   "cell_type": "code",
   "execution_count": 90,
   "id": "a8538bcd",
   "metadata": {},
   "outputs": [
    {
     "data": {
      "text/plain": "<Figure size 432x288 with 1 Axes>",
      "image/png": "[encoded data removed]"
     },
     "metadata": {
      "needs_background": "light"
     },
     "output_type": "display_data"
    }
   ],
   "source": [
    "# indice das features para o plot\n",
    "c1 = 0\n",
    "c2 = 1\n",
    "# plot\n",
    "plt.scatter(iris.X[:,c1], iris.X[:,c2])\n",
    "plt.xlabel(iris.xnames[c1])\n",
    "plt.ylabel(iris.xnames[c2])\n",
    "plt.show()"
   ]
  },
  {
   "cell_type": "code",
   "execution_count": 91,
   "id": "3a83563a",
   "metadata": {},
   "outputs": [
    {
     "name": "stdout",
     "output_type": "stream",
     "text": [
      "[[5.9016129  2.7483871  4.39354839 1.43387097]\n",
      " [5.006      3.418      1.464      0.244     ]\n",
      " [6.85       3.07368421 5.74210526 2.07105263]] [1 1 1 1 1 1 1 1 1 1 1 1 1 1 1 1 1 1 1 1 1 1 1 1 1 1 1 1 1 1 1 1 1 1 1 1 1\n",
      " 1 1 1 1 1 1 1 1 1 1 1 1 1 0 0 2 0 0 0 0 0 0 0 0 0 0 0 0 0 0 0 0 0 0 0 0 0\n",
      " 0 0 0 2 0 0 0 0 0 0 0 0 0 0 0 0 0 0 0 0 0 0 0 0 0 0 2 0 2 2 2 2 0 2 2 2 2\n",
      " 2 2 0 0 2 2 2 2 0 2 0 2 0 2 2 0 0 2 2 2 2 2 0 2 2 2 2 0 2 2 2 0 2 2 2 0 2\n",
      " 2 0]\n"
     ]
    }
   ],
   "source": [
    "kmeans = KMeans(3)\n",
    "cent, clust = kmeans.fit_transform(iris)\n",
    "print(cent, clust)"
   ]
  },
  {
   "cell_type": "code",
   "execution_count": 92,
   "id": "4a9cc736",
   "metadata": {},
   "outputs": [
    {
     "data": {
      "text/plain": "<Figure size 432x288 with 1 Axes>",
      "image/png": "[encoded data removed]"
     },
     "metadata": {
      "needs_background": "light"
     },
     "output_type": "display_data"
    }
   ],
   "source": [
    "\n",
    "plt.scatter(iris.X[:,c1], iris.X[:,c2],c=clust)\n",
    "plt.scatter(cent[:,c1],cent[:,c2], s = 100, c = 'black',marker='x')\n",
    "plt.xlabel(iris.xnames[c1])\n",
    "plt.ylabel(iris.xnames[c2])\n",
    "plt.show()\n",
    "# podem obter clusterings diferentes já que estes dependem da escolha dos centroids iniciais"
   ]
  },
  {
   "cell_type": "markdown",
   "id": "2d9f986e",
   "metadata": {},
   "source": [
    "# PCA"
   ]
  },
  {
   "cell_type": "code",
   "execution_count": 93,
   "id": "36ccdbee",
   "metadata": {},
   "outputs": [],
   "source": [
    "from si.unsupervised import PCA, svd, evd\n",
    "pca = PCA(2, function=svd)"
   ]
  },
  {
   "cell_type": "code",
   "execution_count": 94,
   "id": "5973a1a1",
   "metadata": {},
   "outputs": [
    {
     "name": "stdout",
     "output_type": "stream",
     "text": [
      "[2.93035378 0.92740362 0.14834223 0.02074601]\n",
      "[0.7277045209380136, 0.23030523267680625, 0.036838319576273926, 0.00515192680890631]\n"
     ]
    }
   ],
   "source": [
    "reduced = pca.fit_transform(iris)\n",
    "print(pca.eigen)\n",
    "print(pca.variance_explained())"
   ]
  },
  {
   "cell_type": "code",
   "execution_count": 95,
   "id": "165737a0",
   "metadata": {},
   "outputs": [
    {
     "data": {
      "text/plain": "          pc1       pc2           class\n0   -2.264542 -0.505704     Iris-setosa\n1   -2.086426  0.655405     Iris-setosa\n2    -2.36795  0.318477     Iris-setosa\n3   -2.304197  0.575368     Iris-setosa\n4   -2.388777 -0.674767     Iris-setosa\n..        ...       ...             ...\n145  1.870522 -0.382822  Iris-virginica\n146  1.558492  0.905314  Iris-virginica\n147  1.520845 -0.266795  Iris-virginica\n148  1.376391 -1.016362  Iris-virginica\n149  0.959299  0.022284  Iris-virginica\n\n[150 rows x 3 columns]",
      "text/html": "<div>\n<style scoped>\n    .dataframe tbody tr th:only-of-type {\n        vertical-align: middle;\n    }\n\n    .dataframe tbody tr th {\n        vertical-align: top;\n    }\n\n    .dataframe thead th {\n        text-align: right;\n    }\n</style>\n<table border=\"1\" class=\"dataframe\">\n  <thead>\n    <tr style=\"text-align: right;\">\n      <th></th>\n      <th>pc1</th>\n      <th>pc2</th>\n      <th>class</th>\n    </tr>\n  </thead>\n  <tbody>\n    <tr>\n      <th>0</th>\n      <td>-2.264542</td>\n      <td>-0.505704</td>\n      <td>Iris-setosa</td>\n    </tr>\n    <tr>\n      <th>1</th>\n      <td>-2.086426</td>\n      <td>0.655405</td>\n      <td>Iris-setosa</td>\n    </tr>\n    <tr>\n      <th>2</th>\n      <td>-2.36795</td>\n      <td>0.318477</td>\n      <td>Iris-setosa</td>\n    </tr>\n    <tr>\n      <th>3</th>\n      <td>-2.304197</td>\n      <td>0.575368</td>\n      <td>Iris-setosa</td>\n    </tr>\n    <tr>\n      <th>4</th>\n      <td>-2.388777</td>\n      <td>-0.674767</td>\n      <td>Iris-setosa</td>\n    </tr>\n    <tr>\n      <th>...</th>\n      <td>...</td>\n      <td>...</td>\n      <td>...</td>\n    </tr>\n    <tr>\n      <th>145</th>\n      <td>1.870522</td>\n      <td>-0.382822</td>\n      <td>Iris-virginica</td>\n    </tr>\n    <tr>\n      <th>146</th>\n      <td>1.558492</td>\n      <td>0.905314</td>\n      <td>Iris-virginica</td>\n    </tr>\n    <tr>\n      <th>147</th>\n      <td>1.520845</td>\n      <td>-0.266795</td>\n      <td>Iris-virginica</td>\n    </tr>\n    <tr>\n      <th>148</th>\n      <td>1.376391</td>\n      <td>-1.016362</td>\n      <td>Iris-virginica</td>\n    </tr>\n    <tr>\n      <th>149</th>\n      <td>0.959299</td>\n      <td>0.022284</td>\n      <td>Iris-virginica</td>\n    </tr>\n  </tbody>\n</table>\n<p>150 rows × 3 columns</p>\n</div>"
     },
     "execution_count": 95,
     "metadata": {},
     "output_type": "execute_result"
    }
   ],
   "source": [
    "iris_pca = Dataset(reduced,iris.y,xnames=['pc1','pc2'],yname='class')\n",
    "iris_pca.toDataframe()"
   ]
  },
  {
   "cell_type": "code",
   "execution_count": 96,
   "id": "7ca96668",
   "metadata": {},
   "outputs": [
    {
     "data": {
      "text/plain": "<Figure size 432x288 with 1 Axes>",
      "image/png": "[encoded data removed]"
     },
     "metadata": {
      "needs_background": "light"
     },
     "output_type": "display_data"
    }
   ],
   "source": [
    "plt.scatter(iris_pca.X[:,0], iris_pca.X[:,1])\n",
    "plt.xlabel(\"PC1\")\n",
    "plt.ylabel(\"PC2\")\n",
    "plt.show()"
   ]
  },
  {
   "cell_type": "markdown",
   "id": "0908c3c8",
   "metadata": {
    "pycharm": {
     "name": "#%% md\n"
    }
   },
   "source": [
    "## EVD"
   ]
  },
  {
   "cell_type": "code",
   "execution_count": 97,
   "outputs": [
    {
     "name": "stdout",
     "output_type": "stream",
     "text": [
      "[2.93035378 0.92740362 0.14834223 0.02074601]\n",
      "[0.7277045209380135, 0.2303052326768065, 0.03683831957627379, 0.005151926808906321]\n"
     ]
    },
    {
     "data": {
      "text/plain": "          pc1       pc2           class\n0   -2.264542 -0.505704     Iris-setosa\n1   -2.086426  0.655405     Iris-setosa\n2    -2.36795  0.318477     Iris-setosa\n3   -2.304197  0.575368     Iris-setosa\n4   -2.388777 -0.674767     Iris-setosa\n..        ...       ...             ...\n145  1.870522 -0.382822  Iris-virginica\n146  1.558492  0.905314  Iris-virginica\n147  1.520845 -0.266795  Iris-virginica\n148  1.376391 -1.016362  Iris-virginica\n149  0.959299  0.022284  Iris-virginica\n\n[150 rows x 3 columns]",
      "text/html": "<div>\n<style scoped>\n    .dataframe tbody tr th:only-of-type {\n        vertical-align: middle;\n    }\n\n    .dataframe tbody tr th {\n        vertical-align: top;\n    }\n\n    .dataframe thead th {\n        text-align: right;\n    }\n</style>\n<table border=\"1\" class=\"dataframe\">\n  <thead>\n    <tr style=\"text-align: right;\">\n      <th></th>\n      <th>pc1</th>\n      <th>pc2</th>\n      <th>class</th>\n    </tr>\n  </thead>\n  <tbody>\n    <tr>\n      <th>0</th>\n      <td>-2.264542</td>\n      <td>-0.505704</td>\n      <td>Iris-setosa</td>\n    </tr>\n    <tr>\n      <th>1</th>\n      <td>-2.086426</td>\n      <td>0.655405</td>\n      <td>Iris-setosa</td>\n    </tr>\n    <tr>\n      <th>2</th>\n      <td>-2.36795</td>\n      <td>0.318477</td>\n      <td>Iris-setosa</td>\n    </tr>\n    <tr>\n      <th>3</th>\n      <td>-2.304197</td>\n      <td>0.575368</td>\n      <td>Iris-setosa</td>\n    </tr>\n    <tr>\n      <th>4</th>\n      <td>-2.388777</td>\n      <td>-0.674767</td>\n      <td>Iris-setosa</td>\n    </tr>\n    <tr>\n      <th>...</th>\n      <td>...</td>\n      <td>...</td>\n      <td>...</td>\n    </tr>\n    <tr>\n      <th>145</th>\n      <td>1.870522</td>\n      <td>-0.382822</td>\n      <td>Iris-virginica</td>\n    </tr>\n    <tr>\n      <th>146</th>\n      <td>1.558492</td>\n      <td>0.905314</td>\n      <td>Iris-virginica</td>\n    </tr>\n    <tr>\n      <th>147</th>\n      <td>1.520845</td>\n      <td>-0.266795</td>\n      <td>Iris-virginica</td>\n    </tr>\n    <tr>\n      <th>148</th>\n      <td>1.376391</td>\n      <td>-1.016362</td>\n      <td>Iris-virginica</td>\n    </tr>\n    <tr>\n      <th>149</th>\n      <td>0.959299</td>\n      <td>0.022284</td>\n      <td>Iris-virginica</td>\n    </tr>\n  </tbody>\n</table>\n<p>150 rows × 3 columns</p>\n</div>"
     },
     "execution_count": 97,
     "metadata": {},
     "output_type": "execute_result"
    }
   ],
   "source": [
    "pca = PCA(2, function=evd)\n",
    "reduced = pca.fit_transform(iris)\n",
    "print(pca.eigen)\n",
    "print(pca.variance_explained())\n",
    "iris_pca = Dataset(reduced,iris.y,xnames=['pc1','pc2'],yname='class')\n",
    "iris_pca.toDataframe()"
   ],
   "metadata": {
    "collapsed": false,
    "pycharm": {
     "name": "#%%\n"
    }
   }
  },
  {
   "cell_type": "markdown",
   "source": [
    "# KNN"
   ],
   "metadata": {
    "collapsed": false
   }
  },
  {
   "cell_type": "code",
   "execution_count": 98,
   "outputs": [
    {
     "name": "stdout",
     "output_type": "stream",
     "text": [
      "['Iris-setosa' 'Iris-setosa' 'Iris-setosa' 'Iris-virginica' 'Iris-setosa'\n",
      " 'Iris-setosa' 'Iris-setosa' 'Iris-setosa' 'Iris-versicolor' 'Iris-setosa'\n",
      " 'Iris-virginica' 'Iris-virginica' 'Iris-virginica' 'Iris-virginica'\n",
      " 'Iris-setosa' 'Iris-setosa' 'Iris-versicolor' 'Iris-setosa'\n",
      " 'Iris-virginica' 'Iris-virginica' 'Iris-versicolor' 'Iris-virginica'\n",
      " 'Iris-virginica' 'Iris-virginica' 'Iris-virginica' 'Iris-setosa'\n",
      " 'Iris-setosa' 'Iris-setosa' 'Iris-versicolor' 'Iris-versicolor']\n",
      "['Iris-setosa' 'Iris-setosa' 'Iris-setosa' 'Iris-versicolor' 'Iris-setosa'\n",
      " 'Iris-setosa' 'Iris-setosa' 'Iris-setosa' 'Iris-versicolor' 'Iris-setosa'\n",
      " 'Iris-virginica' 'Iris-virginica' 'Iris-virginica' 'Iris-virginica'\n",
      " 'Iris-setosa' 'Iris-setosa' 'Iris-versicolor' 'Iris-setosa'\n",
      " 'Iris-virginica' 'Iris-virginica' 'Iris-versicolor' 'Iris-virginica'\n",
      " 'Iris-versicolor' 'Iris-virginica' 'Iris-virginica' 'Iris-setosa'\n",
      " 'Iris-setosa' 'Iris-setosa' 'Iris-versicolor' 'Iris-versicolor']\n",
      "Iris-versicolor\n",
      "Iris-versicolor\n",
      "Iris-virginica\n",
      "Iris-virginica\n",
      "Iris-virginica\n",
      "Iris-virginica\n",
      "Iris-versicolor\n",
      "Iris-versicolor\n",
      "Iris-setosa\n",
      "Iris-setosa\n",
      "Iris-versicolor\n",
      "Iris-versicolor\n",
      "Iris-virginica\n",
      "Iris-versicolor\n",
      "Iris-setosa\n",
      "Iris-setosa\n",
      "Iris-setosa\n",
      "Iris-setosa\n",
      "Iris-versicolor\n",
      "Iris-versicolor\n",
      "Iris-setosa\n",
      "Iris-setosa\n",
      "Iris-versicolor\n",
      "Iris-versicolor\n",
      "Iris-versicolor\n",
      "Iris-versicolor\n",
      "Iris-virginica\n",
      "Iris-virginica\n",
      "Iris-setosa\n",
      "Iris-setosa\n",
      "Iris-setosa\n",
      "Iris-setosa\n",
      "Iris-versicolor\n",
      "Iris-versicolor\n",
      "Iris-virginica\n",
      "Iris-virginica\n",
      "Iris-versicolor\n",
      "Iris-versicolor\n",
      "Iris-versicolor\n",
      "Iris-versicolor\n",
      "Iris-virginica\n",
      "Iris-virginica\n",
      "Iris-setosa\n",
      "Iris-setosa\n",
      "Iris-versicolor\n",
      "Iris-versicolor\n",
      "Iris-virginica\n",
      "Iris-virginica\n",
      "Iris-versicolor\n",
      "Iris-versicolor\n",
      "Iris-versicolor\n",
      "Iris-virginica\n",
      "Iris-versicolor\n",
      "Iris-versicolor\n",
      "Iris-versicolor\n",
      "Iris-versicolor\n",
      "Iris-setosa\n",
      "Iris-setosa\n",
      "Iris-virginica\n",
      "Iris-virginica\n",
      "Iris-versicolor\n",
      "Iris-versicolor\n",
      "Iris-versicolor\n",
      "Iris-versicolor\n",
      "Iris-virginica\n",
      "Iris-virginica\n",
      "Iris-versicolor\n",
      "Iris-versicolor\n",
      "Iris-virginica\n",
      "Iris-virginica\n",
      "Iris-virginica\n",
      "Iris-virginica\n",
      "Iris-versicolor\n",
      "Iris-versicolor\n",
      "Iris-setosa\n",
      "Iris-setosa\n",
      "Iris-virginica\n",
      "Iris-virginica\n",
      "Iris-versicolor\n",
      "Iris-versicolor\n",
      "Iris-versicolor\n",
      "Iris-versicolor\n",
      "Iris-versicolor\n",
      "Iris-versicolor\n",
      "Iris-virginica\n",
      "Iris-virginica\n",
      "Iris-setosa\n",
      "Iris-setosa\n",
      "Iris-setosa\n",
      "Iris-setosa\n",
      "Iris-setosa\n",
      "Iris-setosa\n",
      "Iris-versicolor\n",
      "Iris-versicolor\n",
      "Iris-virginica\n",
      "Iris-virginica\n",
      "Iris-virginica\n",
      "Iris-virginica\n",
      "Iris-versicolor\n",
      "Iris-versicolor\n",
      "Iris-virginica\n",
      "Iris-virginica\n",
      "Iris-setosa\n",
      "Iris-setosa\n",
      "Iris-versicolor\n",
      "Iris-versicolor\n",
      "Iris-virginica\n",
      "Iris-virginica\n",
      "Iris-virginica\n",
      "Iris-virginica\n",
      "Iris-versicolor\n",
      "Iris-versicolor\n",
      "Iris-versicolor\n",
      "Iris-versicolor\n",
      "Iris-setosa\n",
      "Iris-setosa\n",
      "Iris-versicolor\n",
      "Iris-versicolor\n",
      "Iris-versicolor\n",
      "Iris-versicolor\n",
      "Iris-virginica\n",
      "Iris-virginica\n",
      "Iris-setosa\n",
      "Iris-setosa\n",
      "Iris-setosa\n",
      "Iris-setosa\n",
      "Iris-setosa\n",
      "Iris-setosa\n",
      "Iris-setosa\n",
      "Iris-setosa\n",
      "Iris-setosa\n",
      "Iris-setosa\n",
      "Iris-versicolor\n",
      "Iris-versicolor\n",
      "Iris-versicolor\n",
      "Iris-versicolor\n",
      "Iris-setosa\n",
      "Iris-setosa\n",
      "Iris-setosa\n",
      "Iris-setosa\n",
      "Iris-versicolor\n",
      "Iris-versicolor\n",
      "Iris-versicolor\n",
      "Iris-versicolor\n",
      "Iris-virginica\n",
      "Iris-virginica\n",
      "Iris-versicolor\n",
      "Iris-versicolor\n",
      "Iris-setosa\n",
      "Iris-setosa\n",
      "Iris-versicolor\n",
      "Iris-versicolor\n",
      "Iris-virginica\n",
      "Iris-virginica\n",
      "Iris-setosa\n",
      "Iris-setosa\n",
      "Iris-versicolor\n",
      "Iris-versicolor\n",
      "Iris-virginica\n",
      "Iris-virginica\n",
      "Iris-setosa\n",
      "Iris-setosa\n",
      "Iris-setosa\n",
      "Iris-setosa\n",
      "Iris-versicolor\n",
      "Iris-virginica\n",
      "Iris-virginica\n",
      "Iris-virginica\n",
      "Iris-setosa\n",
      "Iris-setosa\n",
      "Iris-setosa\n",
      "Iris-setosa\n",
      "Iris-versicolor\n",
      "Iris-versicolor\n",
      "Iris-virginica\n",
      "Iris-virginica\n",
      "Iris-virginica\n",
      "Iris-virginica\n",
      "Iris-virginica\n",
      "Iris-virginica\n",
      "Iris-setosa\n",
      "Iris-setosa\n",
      "Iris-setosa\n",
      "Iris-setosa\n",
      "Iris-virginica\n",
      "Iris-virginica\n",
      "Iris-versicolor\n",
      "Iris-versicolor\n",
      "Iris-virginica\n",
      "Iris-virginica\n",
      "Iris-setosa\n",
      "Iris-setosa\n",
      "Iris-virginica\n",
      "Iris-virginica\n",
      "Iris-virginica\n",
      "Iris-virginica\n",
      "Iris-versicolor\n",
      "Iris-virginica\n",
      "Iris-virginica\n",
      "Iris-virginica\n",
      "Iris-virginica\n",
      "Iris-virginica\n",
      "Iris-virginica\n",
      "Iris-virginica\n",
      "Iris-versicolor\n",
      "Iris-versicolor\n",
      "Iris-versicolor\n",
      "Iris-versicolor\n",
      "Iris-virginica\n",
      "Iris-virginica\n",
      "Iris-setosa\n",
      "Iris-setosa\n",
      "Iris-versicolor\n",
      "Iris-versicolor\n",
      "Iris-versicolor\n",
      "Iris-versicolor\n",
      "Iris-virginica\n",
      "Iris-virginica\n",
      "Iris-virginica\n",
      "Iris-virginica\n",
      "Iris-setosa\n",
      "Iris-setosa\n",
      "Iris-versicolor\n",
      "Iris-versicolor\n",
      "Iris-virginica\n",
      "Iris-virginica\n",
      "Iris-virginica\n",
      "Iris-virginica\n",
      "Iris-setosa\n",
      "Iris-setosa\n",
      "Iris-versicolor\n",
      "Iris-versicolor\n",
      "Iris-setosa\n",
      "Iris-setosa\n",
      "Iris-virginica\n",
      "Iris-virginica\n",
      "Iris-setosa\n",
      "Iris-setosa\n",
      "Iris-setosa\n",
      "Iris-setosa\n",
      "accuracy:  0.9666666666666667\n"
     ]
    }
   ],
   "source": [
    "from si.supervised import KNN\n",
    "from si.util.train import training_test_data_split\n",
    "\n",
    "filename = os.path.join(DIR, 'datasets/iris.data')\n",
    "df = pd.read_csv(filename)\n",
    "# data, cat = categorical_to_numeric(df, -1)\n",
    "dataset = Dataset.from_dataframe(df, ylabel=\"class\")\n",
    "train_data, test_data = training_test_data_split(dataset)\n",
    "\n",
    "knn = KNN(3)\n",
    "knn.fit(train_data)\n",
    "\n",
    "knn_predict = np.ma.apply_along_axis(knn.predict, axis=1, arr=test_data.X)\n",
    "print(test_data.y)\n",
    "print(knn_predict)\n",
    "print(\"accuracy: \", knn.cost())"
   ],
   "metadata": {
    "collapsed": false,
    "pycharm": {
     "name": "#%%\n"
    }
   }
  }
 ],
 "metadata": {
  "kernelspec": {
   "display_name": "Python 3",
   "language": "python",
   "name": "python3"
  },
  "language_info": {
   "codemirror_mode": {
    "name": "ipython",
    "version": 3
   },
   "file_extension": ".py",
   "mimetype": "text/x-python",
   "name": "python",
   "nbconvert_exporter": "python",
   "pygments_lexer": "ipython3",
   "version": "3.8.8"
  }
 },
 "nbformat": 4,
 "nbformat_minor": 5
}